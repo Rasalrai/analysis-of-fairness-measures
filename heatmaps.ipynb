{
 "cells": [
  {
   "cell_type": "markdown",
   "source": [
    "# Heatmaps: IR vs GR"
   ],
   "metadata": {
    "collapsed": false
   }
  },
  {
   "cell_type": "code",
   "execution_count": 4,
   "metadata": {
    "collapsed": true
   },
   "outputs": [],
   "source": [
    "import gc\n",
    "import os\n",
    "import warnings\n",
    "from os import path\n",
    "\n",
    "import matplotlib.pyplot as plt\n",
    "import numpy as np\n",
    "import pandas as pd\n",
    "import seaborn as sns\n",
    "\n",
    "warnings.filterwarnings('ignore')"
   ]
  },
  {
   "cell_type": "code",
   "execution_count": 34,
   "outputs": [],
   "source": [
    "sample_size = 56        # 24, 56\n",
    "plots_dir = os.path.join('out', 'plots', 'heatmap', f'n{sample_size}')\n",
    "calculations_dir = os.path.join('out', 'calculations', f'n{sample_size}')\n",
    "\n",
    "os.makedirs(plots_dir, exist_ok=True)\n",
    "os.makedirs(calculations_dir, exist_ok=True)\n",
    "\n",
    "metrics = {\n",
    "    # 'sb.bin': 'Stereotypical bias',     # TODO add to shared calculations\n",
    "    'acc_equality_diff.bin': 'Accuracy equality difference',\n",
    "    'acc_equality_ratio.bin': 'Accuracy equality ratio',\n",
    "    'disp_impact.bin': 'Disparate impact',\n",
    "    'equal_opp_diff.bin': 'Equal opportunity difference',\n",
    "    'equal_opp_ratio.bin': 'Equal opportunity ratio',\n",
    "    'pred_equality_diff.bin': 'Predictive equality difference',\n",
    "    'pred_equality_ratio.bin': 'Predictive equality ratio',\n",
    "    'stat_parity.bin': 'Statistical parity',\n",
    "    'neg_pred_parity_diff.bin': 'Negative predictive parity difference',\n",
    "    'neg_pred_parity_ratio.bin': 'Negative predictive parity ratio',\n",
    "    'pos_pred_parity_diff.bin': 'Positive predictive parity difference',\n",
    "    'pos_pred_parity_ratio.bin': 'Positive predictive parity ratio',\n",
    "}"
   ],
   "metadata": {
    "collapsed": false
   }
  },
  {
   "cell_type": "code",
   "execution_count": 3,
   "outputs": [],
   "source": [
    "with open(path.join(calculations_dir, 'gr.bin'), 'rb') as f:\n",
    "    gr = pd.DataFrame(np.fromfile(f).astype(np.float16), columns=['gr'])\n",
    "\n",
    "with open(path.join(calculations_dir, 'ir.bin'), 'rb') as f:\n",
    "    ir = pd.DataFrame(np.fromfile(f).astype(np.float16), columns=['ir'])"
   ],
   "metadata": {
    "collapsed": false
   }
  },
  {
   "cell_type": "markdown",
   "source": [
    "## v1"
   ],
   "metadata": {
    "collapsed": false
   }
  },
  {
   "cell_type": "code",
   "execution_count": 14,
   "outputs": [
    {
     "name": "stdout",
     "output_type": "stream",
     "text": [
      "         gr        ir  Accuracy equality difference\n",
      "0  0.000000  1.000000                           NaN\n",
      "1  0.000000  0.958496                           NaN\n",
      "2  0.000000  0.958496                           NaN\n",
      "3  0.000000  1.000000                           NaN\n",
      "4  0.041656  1.000000                           0.0\n",
      "===\n",
      "          gr        ir     value\n",
      "0   0.000000  1.000000       NaN\n",
      "1   0.000000  0.958496       NaN\n",
      "2   0.000000  0.958496       NaN\n",
      "3   0.000000  1.000000       NaN\n",
      "4   0.041656  1.000000  0.000000\n",
      "5   0.041656  0.958496 -1.000000\n",
      "6   0.041656  0.958496  0.000000\n",
      "7   0.041656  1.000000 -1.000000\n",
      "8   0.000000  0.916504       NaN\n",
      "9   0.000000  0.916504       NaN\n",
      "10  0.000000  0.958496       NaN\n",
      "11  0.041656  0.958496  0.043488\n",
      "12  0.041656  0.916504 -0.956543\n",
      "13  0.041656  0.916504  0.043488\n",
      "14  0.041656  0.958496 -0.956543\n",
      "15  0.000000  0.916504       NaN\n",
      "16  0.000000  0.958496       NaN\n",
      "17  0.041656  0.958496  0.000000\n",
      "18  0.041656  0.916504 -1.000000\n",
      "19  0.041656  0.916504  0.000000\n",
      "===\n",
      "ir        0.000000  0.041656  0.083313  0.125000  0.166626  0.208374  \\\n",
      "gr                                                                     \n",
      "0.041656       0.0       0.0       0.0       0.0       0.0       0.0   \n",
      "0.083313       0.0       0.0       0.0       0.0       0.0       0.0   \n",
      "0.125000       0.0       0.0       0.0       0.0       0.0       0.0   \n",
      "0.166626       0.0       0.0       0.0       0.0       0.0       0.0   \n",
      "0.208374       0.0       0.0       0.0       0.0       0.0       0.0   \n",
      "\n",
      "ir        0.250000  0.291748  0.333252  0.375000  ...  0.625000  0.666504  \\\n",
      "gr                                                ...                       \n",
      "0.041656       0.0       0.0       0.0       0.0  ...       0.0       0.0   \n",
      "0.083313       0.0       0.0       0.0       0.0  ...       0.0       0.0   \n",
      "0.125000       0.0       0.0       0.0       0.0  ...       0.0       0.0   \n",
      "0.166626       0.0       0.0       0.0       0.0  ...       0.0       0.0   \n",
      "0.208374       0.0       0.0       0.0       0.0  ...       0.0       0.0   \n",
      "\n",
      "ir        0.708496  0.750000  0.791504  0.833496  0.875000  0.916504  \\\n",
      "gr                                                                     \n",
      "0.041656       0.0       0.0       0.0       0.0       0.0       0.0   \n",
      "0.083313       0.0       0.0       0.0       0.0       0.0       0.0   \n",
      "0.125000       0.0       0.0       0.0       0.0       0.0       0.0   \n",
      "0.166626       0.0       0.0       0.0       0.0       0.0       0.0   \n",
      "0.208374       0.0       0.0       0.0       0.0       0.0       0.0   \n",
      "\n",
      "ir        0.958496  1.000000  \n",
      "gr                            \n",
      "0.041656       0.0       0.0  \n",
      "0.083313       0.0       0.0  \n",
      "0.125000       0.0       0.0  \n",
      "0.166626       0.0       0.0  \n",
      "0.208374       0.0       0.0  \n",
      "\n",
      "[5 rows x 25 columns]\n"
     ]
    }
   ],
   "source": [
    "metric_f, metric_n = list(metrics.items())[0]\n",
    "\n",
    "with open(path.join(calculations_dir, metric_f), 'rb') as f:\n",
    "    metric = pd.DataFrame(np.fromfile(f).astype(np.float16), columns=[metric_n])\n",
    "\n",
    "df = pd.concat([gr, ir, metric], axis=1)\n",
    "print(df.head())\n",
    "print(\"===\")\n",
    "\n",
    "df = df.melt(id_vars=['gr', 'ir'], var_name='metric', value_name='value').drop('metric', axis=1)\n",
    "print(df.head(20))\n",
    "print(\"===\")\n",
    "\n",
    "df = df.pivot_table(index='gr', columns='ir', values='value', aggfunc=np.nanmean)\n",
    "print(df.head())"
   ],
   "metadata": {
    "collapsed": false
   }
  },
  {
   "cell_type": "code",
   "execution_count": null,
   "outputs": [],
   "source": [
    "for metric_f, metric_n in metrics.items():\n",
    "    with open(path.join(calculations_dir, metric_f), 'rb') as f:\n",
    "        metric = pd.DataFrame(np.fromfile(f).astype(np.float16), columns=[metric_n])\n",
    "\n",
    "    df = pd.concat([gr, ir, metric], axis=1).replace(np.inf, np.nan).dropna(axis=0, how='any')\n",
    "\n",
    "    df = df.melt(id_vars=['gr', 'ir'], var_name='metric', value_name='value').drop('metric', axis=1)\n",
    "    df = df.pivot_table(index='gr', columns='ir', values='value')\n",
    "\n",
    "    plt.figure(figsize=(8, 6))\n",
    "    sns.heatmap(\n",
    "        df,\n",
    "        cmap='coolwarm',\n",
    "        center=0,\n",
    "        square=True,\n",
    "        xticklabels=[f'{x:.4f}' for x in df.columns],\n",
    "        yticklabels=[f'{y:.4f}' for y in df.index],\n",
    "    )\n",
    "    plt.title(f'{metric_n} - mean')\n",
    "\n",
    "    # invert y\n",
    "    ax = plt.gca()\n",
    "    ax.invert_yaxis()\n",
    "\n",
    "    plt.tight_layout()\n",
    "    plt.savefig(path.join(plots_dir, f'{metric_n}_hm_v1.png'))\n",
    "\n",
    "    # garbage collection\n",
    "    del df\n",
    "    del metric\n",
    "    gc.collect()\n",
    "    plt.close()"
   ],
   "metadata": {
    "collapsed": false,
    "pycharm": {
     "is_executing": true
    }
   }
  },
  {
   "cell_type": "code",
   "execution_count": null,
   "outputs": [],
   "source": [],
   "metadata": {
    "collapsed": false
   }
  }
 ],
 "metadata": {
  "kernelspec": {
   "display_name": "Python 3",
   "language": "python",
   "name": "python3"
  },
  "language_info": {
   "codemirror_mode": {
    "name": "ipython",
    "version": 2
   },
   "file_extension": ".py",
   "mimetype": "text/x-python",
   "name": "python",
   "nbconvert_exporter": "python",
   "pygments_lexer": "ipython2",
   "version": "2.7.6"
  }
 },
 "nbformat": 4,
 "nbformat_minor": 0
}
