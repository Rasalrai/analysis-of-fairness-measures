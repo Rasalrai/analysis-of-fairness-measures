{
 "cells": [
  {
   "cell_type": "markdown",
   "source": [
    "# Heatmaps: IR vs GR\n",
    "\n",
    "like the histograms, but in 2d"
   ],
   "metadata": {
    "collapsed": false
   }
  },
  {
   "cell_type": "code",
   "execution_count": 1,
   "metadata": {
    "collapsed": true,
    "ExecuteTime": {
     "start_time": "2023-04-10T13:19:28.169927Z",
     "end_time": "2023-04-10T13:19:28.170957Z"
    }
   },
   "outputs": [],
   "source": [
    "import gc\n",
    "import os\n",
    "import warnings\n",
    "from os import path\n",
    "\n",
    "import matplotlib.pyplot as plt\n",
    "import numpy as np\n",
    "import pandas as pd\n",
    "import seaborn as sns\n",
    "\n",
    "warnings.filterwarnings('ignore')"
   ]
  },
  {
   "cell_type": "code",
   "execution_count": 2,
   "outputs": [],
   "source": [
    "sample_size = 56        # 24, 56\n",
    "plots_dir = os.path.join('out', 'plots', 'heatmap', f'n{sample_size}')\n",
    "calculations_dir = os.path.join('out', 'calculations', f'n{sample_size}')\n",
    "\n",
    "os.makedirs(plots_dir, exist_ok=True)\n",
    "os.makedirs(calculations_dir, exist_ok=True)\n",
    "\n",
    "metrics = {\n",
    "    'pred_equality_diff.bin': 'Predictive equality difference',\n",
    "    'pred_equality_ratio.bin': 'Predictive equality ratio',\n",
    "    'stat_parity.bin': 'Statistical parity',\n",
    "    'neg_pred_parity_diff.bin': 'Negative predictive parity difference',\n",
    "    'neg_pred_parity_ratio.bin': 'Negative predictive parity ratio',\n",
    "    'pos_pred_parity_diff.bin': 'Positive predictive parity difference',\n",
    "    'pos_pred_parity_ratio.bin': 'Positive predictive parity ratio',\n",
    "\n",
    "    # ratio-based metrics: out of scope\n",
    "    # 'acc_equality_diff.bin': 'Accuracy equality difference',\n",
    "    # 'acc_equality_ratio.bin': 'Accuracy equality ratio',\n",
    "    # 'disp_impact.bin': 'Disparate impact',\n",
    "    # 'equal_opp_diff.bin': 'Equal opportunity difference',\n",
    "    # 'equal_opp_ratio.bin': 'Equal opportunity ratio',\n",
    "}"
   ],
   "metadata": {
    "collapsed": false,
    "ExecuteTime": {
     "start_time": "2023-04-10T13:19:29.480390Z",
     "end_time": "2023-04-10T13:19:29.488290Z"
    }
   }
  },
  {
   "cell_type": "code",
   "execution_count": 3,
   "outputs": [],
   "source": [
    "with open(path.join(calculations_dir, 'gr.bin'), 'rb') as f:\n",
    "    gr = pd.DataFrame(np.fromfile(f).astype(np.float16), columns=['gr'])\n",
    "\n",
    "with open(path.join(calculations_dir, 'ir.bin'), 'rb') as f:\n",
    "    ir = pd.DataFrame(np.fromfile(f).astype(np.float16), columns=['ir'])"
   ],
   "metadata": {
    "collapsed": false,
    "ExecuteTime": {
     "start_time": "2023-04-10T13:19:31.281926Z",
     "end_time": "2023-04-10T13:19:31.354252Z"
    }
   }
  },
  {
   "cell_type": "markdown",
   "source": [
    "## v1"
   ],
   "metadata": {
    "collapsed": false
   }
  },
  {
   "cell_type": "code",
   "execution_count": null,
   "outputs": [],
   "source": [
    "for metric_f, metric_n in metrics.items():\n",
    "    with open(path.join(calculations_dir, metric_f), 'rb') as f:\n",
    "        metric = pd.DataFrame(np.fromfile(f).astype(np.float16), columns=[metric_n])\n",
    "\n",
    "    df = pd.concat([gr, ir, metric], axis=1).replace(np.inf, np.nan).dropna(axis=0, how='any')\n",
    "\n",
    "    df = df.melt(id_vars=['gr', 'ir'], var_name='metric', value_name='value').drop('metric', axis=1)\n",
    "    df = df.pivot_table(index='gr', columns='ir', values='value')\n",
    "\n",
    "    plt.figure(figsize=(10, 8))\n",
    "    sns.heatmap(\n",
    "        df,\n",
    "        cmap='coolwarm',\n",
    "        center=0,\n",
    "        square=True,\n",
    "        xticklabels=[f'{x:.4f}' for x in df.columns],\n",
    "        yticklabels=[f'{y:.4f}' for y in df.index],\n",
    "    )\n",
    "    plt.title(f'{metric_n} - mean')\n",
    "\n",
    "    # invert y\n",
    "    ax = plt.gca()\n",
    "    ax.invert_yaxis()\n",
    "\n",
    "    # plt.tight_layout()\n",
    "    # plt.savefig(path.join(plots_dir, f'{metric_n}_hm_v1.png'))\n",
    "    # plt.show()\n",
    "\n",
    "    # garbage collection\n",
    "    del df\n",
    "    del metric\n",
    "    plt.close()\n",
    "    gc.collect()"
   ],
   "metadata": {
    "collapsed": false,
    "ExecuteTime": {
     "start_time": "2023-04-04T08:48:36.785335Z",
     "end_time": "2023-04-04T09:02:28.175703Z"
    }
   }
  },
  {
   "cell_type": "markdown",
   "source": [
    "# NaNs visualisation - scatterplot\n",
    "\n",
    "(not used in the paper)"
   ],
   "metadata": {
    "collapsed": false
   }
  },
  {
   "cell_type": "code",
   "execution_count": 5,
   "outputs": [],
   "source": [
    "def scatter_hist(x, y, ax, ax_histx, ax_histy):\n",
    "    # no labels\n",
    "    ax_histx.tick_params(axis=\"x\", labelbottom=False)\n",
    "    ax_histy.tick_params(axis=\"y\", labelleft=False)\n",
    "    ax_histx.set_title('GR')\n",
    "    ax_histy.set_title('IR')\n",
    "\n",
    "    # the scatter plot:\n",
    "    ax.scatter(x, y, alpha=.1, s=1)\n",
    "\n",
    "    ax.set_xlabel('GR')\n",
    "    ax.set_ylabel('IR')\n",
    "\n",
    "    # now determine nice limits by hand:\n",
    "    binwidth = 0.1\n",
    "    xymax = max(np.max(np.abs(x)), np.max(np.abs(y)))\n",
    "    lim = (int(xymax/binwidth) + 1) * binwidth\n",
    "\n",
    "    bins = np.arange(0, lim, binwidth)\n",
    "    ax_histx.hist(x, bins=bins)\n",
    "    ax_histy.hist(y, bins=bins, orientation='horizontal')"
   ],
   "metadata": {
    "collapsed": false,
    "ExecuteTime": {
     "start_time": "2023-04-10T13:20:23.596152Z",
     "end_time": "2023-04-10T13:20:23.610956Z"
    }
   }
  },
  {
   "cell_type": "code",
   "execution_count": null,
   "outputs": [],
   "source": [
    "for metric_f, metric_n in metrics.items():\n",
    "    with open(path.join(calculations_dir, metric_f), 'rb') as f:\n",
    "        metric = pd.DataFrame(np.fromfile(f), columns=[metric_n])\n",
    "\n",
    "    df = pd.concat([gr, ir, metric], axis=1).replace(np.inf, np.nan)\n",
    "    # leave NaNs\n",
    "    df = df.loc[df[metric_n].isna()]\n",
    "\n",
    "    fig = plt.figure(figsize=(6, 6))\n",
    "    fig.suptitle(f'{metric_n} - distribution of incorrect values')\n",
    "    gs = fig.add_gridspec(2, 2,  width_ratios=(4, 1), height_ratios=(1, 4),\n",
    "                          left=0.1, right=0.9, bottom=0.1, top=0.9,\n",
    "                          wspace=0.05, hspace=0.05)\n",
    "\n",
    "    ax = fig.add_subplot(gs[1, 0])\n",
    "    ax_histx = fig.add_subplot(gs[0, 0], sharex=ax)\n",
    "    ax_histy = fig.add_subplot(gs[1, 1], sharey=ax)\n",
    "    scatter_hist(df['gr'], df['ir'], ax, ax_histx, ax_histy)\n",
    "\n",
    "    # plt.savefig(path.join(plots_dir, f'scatter_jitter_{metric_n}.png'))\n",
    "    plt.show()\n",
    "\n",
    "    # garbage collection\n",
    "    del df\n",
    "    del metric\n",
    "    plt.close()"
   ],
   "metadata": {
    "collapsed": false,
    "ExecuteTime": {
     "start_time": "2023-04-10T13:20:56.230781Z",
     "end_time": "2023-04-10T13:21:00.636952Z"
    }
   }
  }
 ],
 "metadata": {
  "kernelspec": {
   "display_name": "Python 3",
   "language": "python",
   "name": "python3"
  },
  "language_info": {
   "codemirror_mode": {
    "name": "ipython",
    "version": 2
   },
   "file_extension": ".py",
   "mimetype": "text/x-python",
   "name": "python",
   "nbconvert_exporter": "python",
   "pygments_lexer": "ipython2",
   "version": "2.7.6"
  }
 },
 "nbformat": 4,
 "nbformat_minor": 0
}
