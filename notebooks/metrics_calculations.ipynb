{
 "cells": [
  {
   "cell_type": "markdown",
   "metadata": {},
   "source": [
    "# Shared calculations for histograms and perfect fairness, for all metrics\n",
    "\n",
    "In this file, a slightly different naming convention is used: `i` for m _i_ nority and `j` for ma _j_ ority group."
   ]
  },
  {
   "cell_type": "markdown",
   "metadata": {
    "id": "AZvJFJUMJc-3"
   },
   "source": [
    "## Setup"
   ]
  },
  {
   "cell_type": "code",
   "execution_count": 1,
   "metadata": {
    "id": "frbcDgnJ80wQ",
    "is_executing": true
   },
   "outputs": [],
   "source": [
    "import gc\n",
    "import os\n",
    "import pickle\n",
    "from os import path\n",
    "from time import perf_counter, perf_counter_ns\n",
    "\n",
    "import numpy as np\n",
    "import pandas as pd\n",
    "\n",
    "from utils import *  # metrics functions"
   ]
  },
  {
   "cell_type": "code",
   "execution_count": 2,
   "metadata": {
    "id": "N0C9QJbKjkDX"
   },
   "outputs": [],
   "source": [
    "data_cols = [\n",
    "    'i_tp',     # minority true positive\n",
    "    'i_fp',     # minority false positive\n",
    "    'i_tn',     # minority true negative\n",
    "    'i_fn',     # minority false negative\n",
    "    'j_tp',     # majority true positive\n",
    "    'j_fp',     # majority false positive\n",
    "    'j_tn',     # majority true negative\n",
    "    'j_fn',     # majority false negative\n",
    "]\n",
    "\n",
    "# TODO update to 56\n",
    "sample_size = 24\n",
    "\n",
    "calculations_dir = path.join('out', 'calculations', f'n{sample_size}')\n",
    "timer_dir = path.join('out', 'time')\n",
    "os.makedirs(calculations_dir, exist_ok=True)\n",
    "os.makedirs(timer_dir, exist_ok=True)\n",
    "\n",
    "# reset the (default) timer file\n",
    "try:\n",
    "    os.remove(path.join(timer_dir, 'metrics_calculations.csv'))\n",
    "except FileNotFoundError:\n",
    "    pass\n",
    "\n",
    "dataset_path = path.join('out', f'Set(08,{sample_size}).bin')"
   ]
  },
  {
   "cell_type": "code",
   "execution_count": 3,
   "metadata": {
    "colab": {
     "base_uri": "https://localhost:8080/",
     "height": 206
    },
    "id": "bnGu5_3kaTaR",
    "outputId": "5acd9406-b43d-4784-ede3-f50fc60d8208"
   },
   "outputs": [],
   "source": [
    "with open(dataset_path, \"rb\") as f:\n",
    "    df = pd.DataFrame(pickle.load(f), columns=data_cols)\n",
    "\n",
    "df.head()"
   ]
  },
  {
   "cell_type": "markdown",
   "metadata": {},
   "source": [
    "# Part 1: ratios and basic metrics\n",
    "\n",
    "For each row, its group and imbalance ratio is calculated. Then, metrics that derive directly from these ratios are calculated."
   ]
  },
  {
   "cell_type": "code",
   "execution_count": 4,
   "metadata": {},
   "outputs": [],
   "source": [
    "def timer_checkpoint(label: str):\n",
    "    timer.append((\n",
    "        label,\n",
    "        perf_counter()\n",
    "    ))\n",
    "\n",
    "def timer_print():\n",
    "    t0 = timer[0][1]\n",
    "    for l, t in timer[1:]:\n",
    "        print(f'{l}:\\t{t - t0}')\n",
    "\n",
    "def timer_save(fn='metrics_calculations.csv'):\n",
    "    with open(path.join(timer_dir, fn), 'a+') as f:\n",
    "        t0 = timer[0][1]\n",
    "        for l, t in timer[1:]:\n",
    "            f.write(f'{l}, {t - t0}\\n')\n",
    "        f.write('\\n')"
   ]
  },
  {
   "cell_type": "code",
   "execution_count": 5,
   "metadata": {
    "colab": {
     "base_uri": "https://localhost:8080/"
    },
    "id": "2O6H_sXVlJFr",
    "outputId": "8c7b1a56-9887-415a-a14c-0fc566d555c8"
   },
   "outputs": [
    {
     "name": "stdout",
     "output_type": "stream",
     "text": [
      "Calculate group ratios:\t0.08875179500319064\n",
      "Calculate imbalance ratios:\t0.16748862899839878\n",
      "getTPR_i:\t0.20173623994924128\n",
      "getTPR_j:\t0.2356706679565832\n",
      "getFPR_i:\t0.2713941929396242\n",
      "getFPR_j:\t0.30812228994909674\n",
      "get_positive_predictive_value_i:\t0.34176465997006744\n",
      "get_positive_predictive_value_j:\t0.3753490230301395\n",
      "get_negative_predictive_value_i:\t0.4091764659387991\n",
      "get_negative_predictive_value_j:\t0.44317842891905457\n",
      "get_statistical_parity:\t0.5310801429441199\n",
      "get_acc_equality_diff:\t0.6276743049966171\n"
     ]
    }
   ],
   "source": [
    "timer = [('t0', perf_counter())]\n",
    "# t0 = perf_counter()\n",
    "\n",
    "# Calculate group ratios\n",
    "with open(path.join(calculations_dir, \"gr.bin\"), \"wb+\") as f:\n",
    "    get_group_ratios(df).to_numpy().tofile(f)\n",
    "timer_checkpoint('Calculate group ratios')\n",
    "\n",
    "# Calculate imbalance ratios\n",
    "with open(path.join(calculations_dir, \"ir.bin\"), \"wb+\") as f:\n",
    "    get_imbalance_ratios(df).to_numpy().tofile(f)\n",
    "timer_checkpoint('Calculate imbalance ratios')\n",
    "\n",
    "# calculate metrics\n",
    "with open(path.join(calculations_dir, \"i_tpr.bin\"), \"wb+\") as f:\n",
    "    getTPR_i(df).to_numpy().tofile(f)\n",
    "timer_checkpoint('getTPR_i')\n",
    "\n",
    "with open(path.join(calculations_dir, \"j_tpr.bin\"), \"wb+\") as f:\n",
    "    getTPR_j(df).to_numpy().tofile(f)\n",
    "timer_checkpoint('getTPR_j')\n",
    "\n",
    "with open(path.join(calculations_dir, \"i_fpr.bin\"), \"wb+\") as f:\n",
    "    getFPR_i(df).to_numpy().tofile(f)\n",
    "timer_checkpoint('getFPR_i')\n",
    "\n",
    "with open(path.join(calculations_dir, \"j_fpr.bin\"), \"wb+\") as f:\n",
    "    getFPR_j(df).to_numpy().tofile(f)\n",
    "timer_checkpoint('getFPR_j')\n",
    "\n",
    "with open(path.join(calculations_dir, \"i_ppv.bin\"), \"wb+\") as f:\n",
    "    get_positive_predictive_value_i(df).to_numpy().tofile(f)\n",
    "timer_checkpoint('get_positive_predictive_value_i')\n",
    "\n",
    "with open(path.join(calculations_dir, \"j_ppv.bin\"), \"wb+\") as f:\n",
    "    get_positive_predictive_value_j(df).to_numpy().tofile(f)\n",
    "timer_checkpoint('get_positive_predictive_value_j')\n",
    "\n",
    "with open(path.join(calculations_dir, \"i_npv.bin\"), \"wb+\") as f:\n",
    "    get_negative_predictive_value_i(df).to_numpy().tofile(f)\n",
    "timer_checkpoint('get_negative_predictive_value_i')\n",
    "\n",
    "with open(path.join(calculations_dir, \"j_npv.bin\"), \"wb+\") as f:\n",
    "    get_negative_predictive_value_j(df).to_numpy().tofile(f)\n",
    "timer_checkpoint('get_negative_predictive_value_j')\n",
    "    \n",
    "with open(path.join(calculations_dir, \"stat_parity.bin\"), \"wb+\") as f:\n",
    "    get_statistical_parity(df).to_numpy().tofile(f)\n",
    "timer_checkpoint('get_statistical_parity')\n",
    "\n",
    "# with open(path.join(calculations_dir, \"disp_impact.bin\"), \"wb+\") as f:\n",
    "#     get_disparate_impact(df).to_numpy().tofile(f)\n",
    "# timer_checkpoint('get_disparate_impact')\n",
    "\n",
    "# with open(path.join(calculations_dir, \"acc_equality_ratio.bin\"), \"wb+\") as f:\n",
    "#     get_acc_equality_ratio(df).to_numpy().tofile(f)\n",
    "# timer_checkpoint('get_acc_equality_ratio')\n",
    "\n",
    "with open(path.join(calculations_dir, \"acc_equality_diff.bin\"), \"wb+\") as f:\n",
    "    get_acc_equality_diff(df).to_numpy().tofile(f)\n",
    "timer_checkpoint('get_acc_equality_diff')\n",
    "\n",
    "timer_print()\n",
    "timer_save()\n",
    "\n",
    "# Free the memory\n",
    "# del df\n",
    "# gc.collect()\n",
    "# gc.get_stats()"
   ]
  },
  {
   "cell_type": "markdown",
   "metadata": {},
   "source": [
    "# Part 2: Get additional calculations\n",
    "\n",
    "Calculations that are based on the previous ones. Some files from the previous part are used here, and new ones are created."
   ]
  },
  {
   "cell_type": "code",
   "execution_count": 6,
   "metadata": {
    "id": "HURjnxCvoz20"
   },
   "outputs": [
    {
     "name": "stdout",
     "output_type": "stream",
     "text": [
      "i_tpr:\t0.012874041101895273\n",
      "j_tpr:\t0.02495126600842923\n",
      "get_equal_opp_diff:\t0.0607953310245648\n"
     ]
    },
    {
     "data": {
      "text/plain": [
       "7"
      ]
     },
     "execution_count": 6,
     "metadata": {},
     "output_type": "execute_result"
    }
   ],
   "source": [
    "timer = [('t0', perf_counter())]\n",
    "\n",
    "with open(path.join(calculations_dir, \"i_tpr.bin\"), \"rb\") as f:\n",
    "    i_tpr = pd.DataFrame(np.fromfile(f), columns=[\"i_tpr\"])\n",
    "timer_checkpoint('i_tpr')\n",
    "\n",
    "with open(path.join(calculations_dir, \"j_tpr.bin\"), \"rb\") as f:\n",
    "    j_tpr = pd.DataFrame(np.fromfile(f), columns=[\"j_tpr\"])\n",
    "timer_checkpoint('j_tpr')\n",
    "\n",
    "# with open(path.join(calculations_dir, \"equal_opp_ratio.bin\"), \"wb+\") as f:\n",
    "#     get_equal_opp_ratio(j_tpr['j_tpr'], i_tpr['i_tpr']).to_numpy().tofile(f)\n",
    "# timer_checkpoint('get_equal_opp_ratio')\n",
    "    \n",
    "with open(path.join(calculations_dir, \"equal_opp_diff.bin\"), \"wb+\") as f:\n",
    "    get_equal_opp_diff(j_tpr['j_tpr'], i_tpr['i_tpr']).to_numpy().tofile(f)\n",
    "timer_checkpoint('get_equal_opp_diff')\n",
    "\n",
    "timer_print()\n",
    "timer_save()\n",
    "\n",
    "del j_tpr\n",
    "del i_tpr\n",
    "gc.collect()"
   ]
  },
  {
   "cell_type": "code",
   "execution_count": 7,
   "metadata": {},
   "outputs": [
    {
     "name": "stdout",
     "output_type": "stream",
     "text": [
      "i_fpr:\t0.007984917028807104\n",
      "j_fpr:\t0.020318961003795266\n",
      "get_pred_equality_diff:\t0.05109178100246936\n"
     ]
    },
    {
     "data": {
      "text/plain": [
       "0"
      ]
     },
     "execution_count": 7,
     "metadata": {},
     "output_type": "execute_result"
    }
   ],
   "source": [
    "timer = [('t0', perf_counter())]\n",
    "\n",
    "with open(path.join(calculations_dir, \"i_fpr.bin\"), \"rb\") as f:\n",
    "    i_fpr = pd.DataFrame(np.fromfile(f), columns=[\"i_fpr\"])\n",
    "timer_checkpoint('i_fpr')\n",
    "\n",
    "with open(path.join(calculations_dir, \"j_fpr.bin\"), \"rb\") as f:\n",
    "    j_fpr = pd.DataFrame(np.fromfile(f), columns=[\"j_fpr\"])\n",
    "timer_checkpoint('j_fpr')\n",
    "\n",
    "# with open(path.join(calculations_dir, \"pred_equality_ratio.bin\"), \"wb+\") as f:\n",
    "#     get_pred_equality_ratio(j_fpr['j_fpr'], i_fpr['i_fpr']).to_numpy().tofile(f)\n",
    "\n",
    "with open(path.join(calculations_dir, \"pred_equality_diff.bin\"), \"wb+\") as f:\n",
    "    get_pred_equality_diff(j_fpr['j_fpr'], i_fpr['i_fpr']).to_numpy().tofile(f)\n",
    "timer_checkpoint('get_pred_equality_diff')\n",
    "\n",
    "timer_print()\n",
    "timer_save()\n",
    "\n",
    "del j_fpr\n",
    "del i_fpr\n",
    "gc.collect()"
   ]
  },
  {
   "cell_type": "code",
   "execution_count": 8,
   "metadata": {},
   "outputs": [
    {
     "name": "stdout",
     "output_type": "stream",
     "text": [
      "i_fpr:\t0.007984917028807104\n",
      "j_fpr:\t0.020318961003795266\n",
      "get_pred_equality_diff:\t0.05109178100246936\n",
      "i_ppv:\t0.12837609101552516\n",
      "j_ppv:\t0.14048844808712602\n",
      "get_pos_pred_parity_diff:\t0.17137813405133784\n"
     ]
    },
    {
     "data": {
      "text/plain": [
       "0"
      ]
     },
     "execution_count": 8,
     "metadata": {},
     "output_type": "execute_result"
    }
   ],
   "source": [
    "with open(path.join(calculations_dir, \"i_ppv.bin\"), \"rb\") as f:\n",
    "    i_ppv = pd.DataFrame(np.fromfile(f), columns=[\"i_ppv\"])\n",
    "timer_checkpoint('i_ppv')\n",
    "\n",
    "with open(path.join(calculations_dir, \"j_ppv.bin\"), \"rb\") as f:\n",
    "    j_ppv = pd.DataFrame(np.fromfile(f), columns=[\"j_ppv\"])\n",
    "timer_checkpoint('j_ppv')\n",
    "\n",
    "# with open(path.join(calculations_dir, \"pos_pred_parity_ratio.bin\"), \"wb+\") as f:\n",
    "#     get_pos_pred_parity_ratio(j_ppv['j_ppv'], i_ppv['i_ppv']).to_numpy().tofile(f)\n",
    "\n",
    "with open(path.join(calculations_dir, \"pos_pred_parity_diff.bin\"), \"wb+\") as f:\n",
    "    get_pos_pred_parity_diff(j_ppv['j_ppv'], i_ppv['i_ppv']).to_numpy().tofile(f)\n",
    "timer_checkpoint('get_pos_pred_parity_diff')\n",
    "\n",
    "timer_print()\n",
    "timer_save()\n",
    "\n",
    "del j_ppv\n",
    "del i_ppv\n",
    "gc.collect()"
   ]
  },
  {
   "cell_type": "code",
   "execution_count": 9,
   "metadata": {},
   "outputs": [
    {
     "name": "stdout",
     "output_type": "stream",
     "text": [
      "i_fpr:\t0.007984917028807104\n",
      "j_fpr:\t0.020318961003795266\n",
      "get_pred_equality_diff:\t0.05109178100246936\n",
      "i_ppv:\t0.12837609101552516\n",
      "j_ppv:\t0.14048844808712602\n",
      "get_pos_pred_parity_diff:\t0.17137813405133784\n",
      "i_npv:\t0.24896213004831225\n",
      "j_npv:\t0.2614579671062529\n",
      "get_neg_pred_parity_ratio:\t0.2941047390922904\n",
      "get_neg_pred_parity_diff:\t0.31933507102075964\n"
     ]
    },
    {
     "data": {
      "text/plain": [
       "7"
      ]
     },
     "execution_count": 9,
     "metadata": {},
     "output_type": "execute_result"
    }
   ],
   "source": [
    "with open(path.join(calculations_dir, \"i_npv.bin\"), \"rb\") as f:\n",
    "    i_npv = pd.DataFrame(np.fromfile(f), columns=[\"i_npv\"])\n",
    "timer_checkpoint('i_npv')\n",
    "\n",
    "with open(path.join(calculations_dir, \"j_npv.bin\"), \"rb\") as f:\n",
    "    j_npv = pd.DataFrame(np.fromfile(f), columns=[\"j_npv\"])\n",
    "timer_checkpoint('j_npv')\n",
    "\n",
    "with open(path.join(calculations_dir, \"neg_pred_parity_ratio.bin\"), \"wb+\") as f:\n",
    "    get_neg_pred_parity_ratio(j_npv['j_npv'], i_npv['i_npv']).to_numpy().tofile(f)\n",
    "timer_checkpoint('get_neg_pred_parity_ratio')\n",
    "\n",
    "with open(path.join(calculations_dir, \"neg_pred_parity_diff.bin\"), \"wb+\") as f:\n",
    "    get_neg_pred_parity_diff(j_npv['j_npv'], i_npv['i_npv']).to_numpy().tofile(f)\n",
    "timer_checkpoint('get_neg_pred_parity_diff')\n",
    "\n",
    "timer_print()\n",
    "timer_save()\n",
    "\n",
    "del j_npv\n",
    "del i_npv\n",
    "gc.collect()"
   ]
  }
 ],
 "metadata": {
  "colab": {
   "provenance": [],
   "toc_visible": true
  },
  "kernelspec": {
   "display_name": "Python 3 (ipykernel)",
   "language": "python",
   "name": "python3"
  },
  "language_info": {
   "codemirror_mode": {
    "name": "ipython",
    "version": 3
   },
   "file_extension": ".py",
   "mimetype": "text/x-python",
   "name": "python",
   "nbconvert_exporter": "python",
   "pygments_lexer": "ipython3",
   "version": "3.11.6"
  },
  "vscode": {
   "interpreter": {
    "hash": "1f011426f63b937df9084534402d60726e75436353eed0d60e767a35eaa72376"
   }
  }
 },
 "nbformat": 4,
 "nbformat_minor": 4
}
