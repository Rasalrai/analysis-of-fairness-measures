{
 "cells": [
  {
   "cell_type": "markdown",
   "metadata": {},
   "source": [
    "# Shared calculations for histograms and perfect fairness, for all metrics\n",
    "\n",
    "In this file, a slightly different naming convention is used: `i` for m _i_ nority and `j` for ma _j_ ority group."
   ]
  },
  {
   "cell_type": "markdown",
   "metadata": {
    "id": "AZvJFJUMJc-3"
   },
   "source": [
    "## Setup"
   ]
  },
  {
   "cell_type": "code",
   "execution_count": null,
   "metadata": {
    "id": "frbcDgnJ80wQ",
    "is_executing": true
   },
   "outputs": [],
   "source": [
    "import gc\n",
    "import os\n",
    "import pickle\n",
    "from os import path\n",
    "\n",
    "import numpy as np\n",
    "import pandas as pd\n",
    "\n",
    "from utils import *"
   ]
  },
  {
   "cell_type": "code",
   "execution_count": null,
   "metadata": {
    "ExecuteTime": {
     "end_time": "2024-02-03T14:30:00.034820Z",
     "start_time": "2024-02-03T14:30:00.006775Z"
    },
    "id": "N0C9QJbKjkDX"
   },
   "outputs": [],
   "source": [
    "data_cols = [\n",
    "    'i_tp',     # minority true positive\n",
    "    'i_fp',     # minority false positive\n",
    "    'i_tn',     # minority true negative\n",
    "    'i_fn',     # minority false negative\n",
    "    'j_tp',     # majority true positive\n",
    "    'j_fp',     # majority false positive\n",
    "    'j_tn',     # majority true negative\n",
    "    'j_fn',     # majority false negative\n",
    "]\n",
    "\n",
    "sample_size = 56\n",
    "\n",
    "calculations_dir = path.join('out', 'calculations', f'n{sample_size}')\n",
    "timer_dir = path.join('out', 'time')\n",
    "os.makedirs(calculations_dir, exist_ok=True)\n",
    "os.makedirs(timer_dir, exist_ok=True)\n",
    "\n",
    "dataset_path = path.join('out', f'Set(08,{sample_size}).bin')"
   ]
  },
  {
   "cell_type": "code",
   "execution_count": null,
   "metadata": {
    "colab": {
     "base_uri": "https://localhost:8080/",
     "height": 206
    },
    "id": "bnGu5_3kaTaR",
    "outputId": "5acd9406-b43d-4784-ede3-f50fc60d8208"
   },
   "outputs": [],
   "source": [
    "with open(dataset_path, \"rb\") as f:\n",
    "    df = pd.DataFrame(pickle.load(f), columns=data_cols)\n",
    "\n",
    "df.head()"
   ]
  },
  {
   "cell_type": "markdown",
   "metadata": {},
   "source": [
    "# Part 1: ratios and basic metrics\n",
    "\n",
    "For each row, its group and imbalance ratio is calculated. Then, metrics that derive directly from these ratios are calculated."
   ]
  },
  {
   "cell_type": "code",
   "execution_count": null,
   "metadata": {},
   "outputs": [],
   "source": [
    "timer = Timer().start()\n",
    "\n",
    "# Calculate group ratios\n",
    "with open(path.join(calculations_dir, \"gr.bin\"), \"wb+\") as f:\n",
    "    get_group_ratios(df).to_numpy().tofile(f)\n",
    "gc.collect()\n",
    "timer.checkpoint('Calculate group ratios')\n",
    "\n",
    "# Calculate imbalance ratios\n",
    "with open(path.join(calculations_dir, \"ir.bin\"), \"wb+\") as f:\n",
    "    get_imbalance_ratios(df).to_numpy().tofile(f)\n",
    "gc.collect()\n",
    "timer.checkpoint('Calculate imbalance ratios')\n",
    "\n",
    "# ##########################\n",
    "\n",
    "with open(path.join(calculations_dir, \"i_ppv.bin\"), \"wb+\") as f:\n",
    "    get_positive_predictive_value_i(df).to_numpy().tofile(f)\n",
    "gc.collect()\n",
    "timer.checkpoint('get_positive_predictive_value_i')\n",
    "\n",
    "with open(path.join(calculations_dir, \"j_ppv.bin\"), \"wb+\") as f:\n",
    "    get_positive_predictive_value_j(df).to_numpy().tofile(f)\n",
    "gc.collect()\n",
    "timer.checkpoint('get_positive_predictive_value_j')\n",
    "\n",
    "with open(path.join(calculations_dir, \"i_npv.bin\"), \"wb+\") as f:\n",
    "    get_negative_predictive_value_i(df).to_numpy().tofile(f)\n",
    "gc.collect()\n",
    "timer.checkpoint('get_negative_predictive_value_i')\n",
    "\n",
    "with open(path.join(calculations_dir, \"j_npv.bin\"), \"wb+\") as f:\n",
    "    get_negative_predictive_value_j(df).to_numpy().tofile(f)\n",
    "gc.collect()\n",
    "timer.checkpoint('get_negative_predictive_value_j')\n",
    "\n",
    "# ##########################\n",
    "\n",
    "with open(path.join(calculations_dir, \"stat_parity.bin\"), \"wb+\") as f:\n",
    "    get_statistical_parity(df).to_numpy().tofile(f)\n",
    "gc.collect()\n",
    "timer.checkpoint('get_statistical_parity')\n",
    "\n",
    "# with open(path.join(calculations_dir, \"disp_impact.bin\"), \"wb+\") as f:\n",
    "#     get_disparate_impact(df).to_numpy().tofile(f)\n",
    "# timer.checkpoint('get_disparate_impact')\n",
    "\n",
    "# with open(path.join(calculations_dir, \"acc_equality_ratio.bin\"), \"wb+\") as f:\n",
    "#     get_acc_equality_ratio(df).to_numpy().tofile(f)\n",
    "# timer.checkpoint('get_acc_equality_ratio')\n",
    "\n",
    "with open(path.join(calculations_dir, \"acc_equality_diff.bin\"), \"wb+\") as f:\n",
    "    get_acc_equality_diff(df).to_numpy().tofile(f)\n",
    "gc.collect()\n",
    "timer.checkpoint('get_acc_equality_diff')\n",
    "\n",
    "# calculate metrics\n",
    "with open(path.join(calculations_dir, \"i_tpr.bin\"), \"wb+\") as f:\n",
    "    getTPR_i(df).to_numpy().tofile(f)\n",
    "gc.collect()\n",
    "timer.checkpoint('getTPR_i')\n",
    "\n",
    "with open(path.join(calculations_dir, \"j_tpr.bin\"), \"wb+\") as f:\n",
    "    getTPR_j(df).to_numpy().tofile(f)\n",
    "gc.collect()\n",
    "timer.checkpoint('getTPR_j')\n",
    "\n",
    "with open(path.join(calculations_dir, \"i_fpr.bin\"), \"wb+\") as f:\n",
    "    getFPR_i(df).to_numpy().tofile(f)\n",
    "gc.collect()\n",
    "timer.checkpoint('getFPR_i')\n",
    "\n",
    "with open(path.join(calculations_dir, \"j_fpr.bin\"), \"wb+\") as f:\n",
    "    getFPR_j(df).to_numpy().tofile(f)\n",
    "gc.collect()\n",
    "timer.checkpoint('getFPR_j')\n",
    "\n",
    "# ##########################\n",
    "\n",
    "timer.reset()\n",
    "timer.print()\n",
    "\n",
    "# Free the memory\n",
    "del df\n",
    "gc.collect()\n",
    "gc.get_stats()"
   ]
  },
  {
   "cell_type": "markdown",
   "metadata": {},
   "source": [
    "# Part 2: Get additional calculations\n",
    "\n",
    "Calculations that are based on the previous ones. Some files from the previous part are used here, and new ones are created."
   ]
  },
  {
   "cell_type": "code",
   "execution_count": null,
   "metadata": {
    "ExecuteTime": {
     "end_time": "2024-02-03T14:30:55.591502Z",
     "start_time": "2024-02-03T14:30:47.619393Z"
    },
    "id": "HURjnxCvoz20"
   },
   "outputs": [],
   "source": [
    "timer.start()\n",
    "\n",
    "with open(path.join(calculations_dir, \"i_tpr.bin\"), \"rb\") as f:\n",
    "    i_tpr = pd.DataFrame(np.fromfile(f), columns=[\"i_tpr\"])\n",
    "timer.checkpoint('i_tpr')\n",
    "\n",
    "with open(path.join(calculations_dir, \"j_tpr.bin\"), \"rb\") as f:\n",
    "    j_tpr = pd.DataFrame(np.fromfile(f), columns=[\"j_tpr\"])\n",
    "timer.checkpoint('j_tpr')\n",
    "\n",
    "# with open(path.join(calculations_dir, \"equal_opp_ratio.bin\"), \"wb+\") as f:\n",
    "#     get_equal_opp_ratio(j_tpr['j_tpr'], i_tpr['i_tpr']).to_numpy().tofile(f)\n",
    "# timer.checkpoint('get_equal_opp_ratio')\n",
    "\n",
    "with open(path.join(calculations_dir, \"equal_opp_diff.bin\"), \"wb+\") as f:\n",
    "    get_equal_opp_diff(j_tpr['j_tpr'], i_tpr['i_tpr']).to_numpy().tofile(f)\n",
    "timer.checkpoint('get_equal_opp_diff')\n",
    "\n",
    "timer.reset()\n",
    "timer.print()\n",
    "\n",
    "del j_tpr\n",
    "del i_tpr\n",
    "gc.collect()"
   ]
  },
  {
   "cell_type": "code",
   "execution_count": null,
   "metadata": {
    "ExecuteTime": {
     "end_time": "2024-02-03T14:31:01.165649Z",
     "start_time": "2024-02-03T14:30:55.589421Z"
    }
   },
   "outputs": [],
   "source": [
    "timer.start()\n",
    "\n",
    "with open(path.join(calculations_dir, \"i_fpr.bin\"), \"rb\") as f:\n",
    "    i_fpr = pd.DataFrame(np.fromfile(f), columns=[\"i_fpr\"])\n",
    "timer.checkpoint('i_fpr')\n",
    "\n",
    "with open(path.join(calculations_dir, \"j_fpr.bin\"), \"rb\") as f:\n",
    "    j_fpr = pd.DataFrame(np.fromfile(f), columns=[\"j_fpr\"])\n",
    "timer.checkpoint('j_fpr')\n",
    "\n",
    "# with open(path.join(calculations_dir, \"pred_equality_ratio.bin\"), \"wb+\") as f:\n",
    "#     get_pred_equality_ratio(j_fpr['j_fpr'], i_fpr['i_fpr']).to_numpy().tofile(f)\n",
    "\n",
    "with open(path.join(calculations_dir, \"pred_equality_diff.bin\"), \"wb+\") as f:\n",
    "    get_pred_equality_diff(j_fpr['j_fpr'], i_fpr['i_fpr']).to_numpy().tofile(f)\n",
    "timer.checkpoint('get_pred_equality_diff')\n",
    "\n",
    "timer.reset()\n",
    "timer.print()\n",
    "\n",
    "del j_fpr\n",
    "del i_fpr\n",
    "gc.collect()"
   ]
  },
  {
   "cell_type": "code",
   "execution_count": null,
   "metadata": {},
   "outputs": [],
   "source": [
    "timer.start()\n",
    "\n",
    "with open(path.join(calculations_dir, \"i_ppv.bin\"), \"rb\") as f:\n",
    "    i_ppv = pd.DataFrame(np.fromfile(f), columns=[\"i_ppv\"])\n",
    "timer.checkpoint('i_ppv')\n",
    "\n",
    "with open(path.join(calculations_dir, \"j_ppv.bin\"), \"rb\") as f:\n",
    "    j_ppv = pd.DataFrame(np.fromfile(f), columns=[\"j_ppv\"])\n",
    "timer.checkpoint('j_ppv')\n",
    "\n",
    "# with open(path.join(calculations_dir, \"pos_pred_parity_ratio.bin\"), \"wb+\") as f:\n",
    "#     get_pos_pred_parity_ratio(j_ppv['j_ppv'], i_ppv['i_ppv']).to_numpy().tofile(f)\n",
    "\n",
    "with open(path.join(calculations_dir, \"pos_pred_parity_diff.bin\"), \"wb+\") as f:\n",
    "    get_pos_pred_parity_diff(j_ppv['j_ppv'], i_ppv['i_ppv']).to_numpy().tofile(f)\n",
    "timer.checkpoint('get_pos_pred_parity_diff')\n",
    "\n",
    "timer.reset()\n",
    "timer.print()\n",
    "\n",
    "del j_ppv\n",
    "del i_ppv\n",
    "gc.collect()"
   ]
  },
  {
   "cell_type": "code",
   "execution_count": null,
   "metadata": {},
   "outputs": [],
   "source": [
    "timer.start()\n",
    "\n",
    "with open(path.join(calculations_dir, \"i_npv.bin\"), \"rb\") as f:\n",
    "    i_npv = pd.DataFrame(np.fromfile(f), columns=[\"i_npv\"])\n",
    "timer.checkpoint('i_npv')\n",
    "\n",
    "with open(path.join(calculations_dir, \"j_npv.bin\"), \"rb\") as f:\n",
    "    j_npv = pd.DataFrame(np.fromfile(f), columns=[\"j_npv\"])\n",
    "timer.checkpoint('j_npv')\n",
    "\n",
    "with open(path.join(calculations_dir, \"neg_pred_parity_ratio.bin\"), \"wb+\") as f:\n",
    "    get_neg_pred_parity_ratio(j_npv['j_npv'], i_npv['i_npv']).to_numpy().tofile(f)\n",
    "timer.checkpoint('get_neg_pred_parity_ratio')\n",
    "\n",
    "with open(path.join(calculations_dir, \"neg_pred_parity_diff.bin\"), \"wb+\") as f:\n",
    "    get_neg_pred_parity_diff(j_npv['j_npv'], i_npv['i_npv']).to_numpy().tofile(f)\n",
    "timer.checkpoint('get_neg_pred_parity_diff')\n",
    "\n",
    "timer.reset()\n",
    "timer.print()\n",
    "\n",
    "del j_npv\n",
    "del i_npv\n",
    "gc.collect()"
   ]
  },
  {
   "cell_type": "code",
   "execution_count": null,
   "metadata": {},
   "outputs": [],
   "source": [
    "timer.to_file(fn='metrics_calculations.csv')"
   ]
  }
 ],
 "metadata": {
  "colab": {
   "provenance": [],
   "toc_visible": true
  },
  "kernelspec": {
   "display_name": "Python 3 (ipykernel)",
   "language": "python",
   "name": "python3"
  },
  "language_info": {
   "codemirror_mode": {
    "name": "ipython",
    "version": 3
   },
   "file_extension": ".py",
   "mimetype": "text/x-python",
   "name": "python",
   "nbconvert_exporter": "python",
   "pygments_lexer": "ipython3",
   "version": "3.11.6"
  },
  "vscode": {
   "interpreter": {
    "hash": "1f011426f63b937df9084534402d60726e75436353eed0d60e767a35eaa72376"
   }
  }
 },
 "nbformat": 4,
 "nbformat_minor": 4
}
