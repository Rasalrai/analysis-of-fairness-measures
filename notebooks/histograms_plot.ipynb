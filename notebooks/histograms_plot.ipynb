{
 "cells": [
  {
   "cell_type": "markdown",
   "metadata": {},
   "source": [
    "# Histograms of metric values for selected IR & GR\n",
    "\n",
    "### imports, setup and loading data"
   ]
  },
  {
   "cell_type": "code",
   "execution_count": null,
   "metadata": {
    "ExecuteTime": {
     "end_time": "2023-05-05T09:17:18.148895357Z",
     "start_time": "2023-05-05T09:17:17.804891118Z"
    }
   },
   "outputs": [],
   "source": [
    "import gc\n",
    "import os\n",
    "import warnings\n",
    "from os import path\n",
    "\n",
    "import matplotlib.pyplot as plt\n",
    "import numpy as np\n",
    "import pandas as pd\n",
    "\n",
    "warnings.filterwarnings('ignore')"
   ]
  },
  {
   "cell_type": "code",
   "execution_count": null,
   "metadata": {
    "ExecuteTime": {
     "end_time": "2023-05-04T14:32:26.952078341Z",
     "start_time": "2023-05-04T14:32:26.949373318Z"
    }
   },
   "outputs": [],
   "source": [
    "sample_size = 56\n",
    "plots_dir = os.path.join('out', 'plots', f'n{sample_size}', 'histograms')\n",
    "calculations_dir = os.path.join('out', 'calculations', f'n{sample_size}')\n",
    "\n",
    "os.makedirs(plots_dir, exist_ok=True)\n",
    "os.makedirs(calculations_dir, exist_ok=True)\n",
    "\n",
    "metrics = {\n",
    "    'acc_equality_diff.bin': 'Accuracy equality',\n",
    "    'equal_opp_diff.bin': 'Equal opportunity',\n",
    "    'pred_equality_diff.bin': 'Predictive equality',\n",
    "    'stat_parity.bin': 'Statistical parity',\n",
    "    'neg_pred_parity_diff.bin': 'Negative predictive parity',\n",
    "    'pos_pred_parity_diff.bin': 'Positive predictive parity',\n",
    "}\n",
    "\n",
    "plt.style.use('default')\n",
    "\n",
    "# adjust font size on plots\n",
    "SMALL_SIZE = MEDIUM_SIZE = 14\n",
    "BIGGER_SIZE = 15\n",
    "\n",
    "plt.rc('font', size=SMALL_SIZE)          # controls default text sizes\n",
    "plt.rc('axes', titlesize=SMALL_SIZE)     # fontsize of the axes title\n",
    "plt.rc('axes', labelsize=MEDIUM_SIZE)    # fontsize of the x and y labels\n",
    "plt.rc('xtick', labelsize=SMALL_SIZE)    # fontsize of the tick labels\n",
    "plt.rc('ytick', labelsize=SMALL_SIZE)    # fontsize of the tick labels\n",
    "plt.rc('legend', fontsize=SMALL_SIZE)    # legend fontsize\n",
    "plt.rc('figure', titlesize=BIGGER_SIZE)  # fontsize of the figure title"
   ]
  },
  {
   "cell_type": "code",
   "execution_count": null,
   "metadata": {
    "ExecuteTime": {
     "end_time": "2023-05-04T13:31:21.285855497Z",
     "start_time": "2023-05-04T13:31:05.798157066Z"
    }
   },
   "outputs": [],
   "source": [
    "# load IR & GR data for all confusion matrices of selected sample size\n",
    "with open(path.join(calculations_dir, 'gr.bin'), 'rb') as f:\n",
    "    gr = pd.DataFrame(np.fromfile(f).astype(np.float16), columns=['gr'])\n",
    "\n",
    "with open(path.join(calculations_dir, 'ir.bin'), 'rb') as f:\n",
    "    ir = pd.DataFrame(np.fromfile(f).astype(np.float16), columns=['ir'])"
   ]
  },
  {
   "cell_type": "markdown",
   "metadata": {},
   "source": [
    "## Histograms with highlighted undefined values"
   ]
  },
  {
   "cell_type": "code",
   "execution_count": null,
   "metadata": {
    "ExecuteTime": {
     "end_time": "2023-05-04T14:32:31.859257837Z",
     "start_time": "2023-05-04T14:32:31.857386751Z"
    }
   },
   "outputs": [],
   "source": [
    "def plot_histograms(metric_info, grs, irs, ratios_labels, bins_n):\n",
    "    m_file, m_name = metric_info\n",
    "    ir_labels = ratios_labels[::-1]\n",
    "    gr_labels = ratios_labels\n",
    "\n",
    "    with open(path.join(calculations_dir, m_file), 'rb') as f:\n",
    "        df = pd.concat([gr, ir, pd.DataFrame(np.fromfile(f), columns=[m_name])], axis=1)\n",
    "\n",
    "    # filter to get only results for selected ratios\n",
    "    df = df.loc[df.ir.isin(irs) & df.gr.isin(grs)]\n",
    "\n",
    "    print(f'{m_name}: inf: {df.loc[np.isinf(df[m_name])].shape[0]}, nan: {df.loc[np.isnan(df[m_name])].shape[0]}')\n",
    "\n",
    "    # list like: [['a00', 'a00n', 'a01', 'a01n',...], ...]\n",
    "    mosaic = [\n",
    "        [f'a{i}{g}{x}'\n",
    "         for g in range(len(grs))\n",
    "         for x in ['', 'n']]\n",
    "         for i in range(len(irs))\n",
    "    ]\n",
    "\n",
    "    fig, axs = plt.subplot_mosaic(mosaic,\n",
    "                                  width_ratios=[50, 1]*len(grs),\n",
    "                                  sharex=False, sharey=True,\n",
    "                                  layout='constrained',\n",
    "                                  # figsize=(18, 14),\n",
    "                                  figsize=(20, 10),\n",
    "                                  gridspec_kw={'wspace': 0.1, 'hspace': 0.1})\n",
    "    # fig.suptitle(f'{m_name}: probabilities for selected IR & GR')\n",
    "    fig.suptitle(f'{m_name}')\n",
    "\n",
    "    for i, ir_val in enumerate(irs):\n",
    "        for g, gr_val in enumerate(grs):\n",
    "\n",
    "            # separate nans and numbers\n",
    "            df_tmp = df.loc[(df.ir == ir_val) & (df.gr == gr_val)]\n",
    "            total = df_tmp.shape[0]\n",
    "\n",
    "            df_not_nan = df_tmp.loc[np.logical_not(np.isnan(df_tmp[m_name]))]\n",
    "            nan_prob = df_tmp.loc[np.isnan(df_tmp[m_name])].shape[0] / total\n",
    "\n",
    "            # prepare data for plotting\n",
    "            binned, edges = np.histogram(df_not_nan[m_name], bins=bins_n)\n",
    "            binned = binned / total\n",
    "\n",
    "            # plot not nans\n",
    "            axs[f'a{i}{g}'].hist(edges[:-1], edges, weights=binned, fc='black', ec='black')\n",
    "            axs[f'a{i}{g}'].spines[['top', 'right']].set_visible(False)\n",
    "\n",
    "            # plot nans - without drawing the full axis frame\n",
    "            axs[f'a{i}{g}n'].bar(0, nan_prob, fc='red', ec='red', width=0.1, lw=0)\n",
    "            axs[f'a{i}{g}n'].spines[['top', 'left']].set_visible(False)\n",
    "\n",
    "            # styling\n",
    "            if g == 0:\n",
    "                axs[f'a{i}{g}'].set_ylabel(f'IR = {ir_labels[i]}')\n",
    "            if i == 0:\n",
    "                axs[f'a{i}{g}'].set_title(f'GR = {gr_labels[g]}')\n",
    "            if i == len(irs) - 1:   # last row\n",
    "                axs[f'a{i}{g}n'].set_xticks([0], ['Undef.'])\n",
    "            else:\n",
    "                axs[f'a{i}{g}'].set_xticklabels([])\n",
    "                axs[f'a{i}{g}n'].set_xticks([0], [''])\n",
    "\n",
    "    del df\n",
    "    gc.collect()\n",
    "\n",
    "    return fig"
   ]
  },
  {
   "cell_type": "code",
   "execution_count": null,
   "metadata": {
    "ExecuteTime": {
     "end_time": "2023-05-04T14:34:42.398675434Z",
     "start_time": "2023-05-04T14:32:31.951871267Z"
    }
   },
   "outputs": [],
   "source": [
    "ratios = [1./28, 1./4, 1./2, 3./4, 27./28]\n",
    "ratios_labels = ['1/28', '1/4', '1/2', '3/4', '27/28']\n",
    "\n",
    "grs = np.float16(ratios)\n",
    "irs = np.float16(ratios[::-1])\n",
    "\n",
    "BINS = 109\n",
    "\n",
    "for metric_info in metrics.items():\n",
    "    fig = plot_histograms(metric_info, grs, irs, ratios_labels, BINS)\n",
    "    fig.savefig(path.join(plots_dir, f'histogram_b{BINS}_{metric_info[1]}_titled.svg'), dpi=300)\n",
    "    plt.close(fig)"
   ]
  },
  {
   "cell_type": "markdown",
   "metadata": {},
   "source": [
    "### Histograms omitting undefined values\n",
    "\n",
    "not used in the paper, but can be a useful reference"
   ]
  },
  {
   "cell_type": "code",
   "execution_count": null,
   "metadata": {
    "ExecuteTime": {
     "end_time": "2023-04-27T01:54:32.069414Z",
     "start_time": "2023-04-27T01:54:32.068106Z"
    }
   },
   "outputs": [],
   "source": [
    "def plot_histograms_no_nan(metric_info, grs, irs, ratios_labels, bins_n):\n",
    "    m_file, m_name = metric_info\n",
    "\n",
    "    with open(path.join(calculations_dir, m_file), 'rb') as f:\n",
    "        df = pd.concat([gr, ir, pd.DataFrame(np.fromfile(f).astype(np.float64), columns=[m_name])], axis=1)\n",
    "\n",
    "    # filter to get only results for selected ratios\n",
    "    df = df.loc[df.ir.isin(irs) & df.gr.isin(grs)]\n",
    "\n",
    "    print(f'{m_name}: inf: {df.loc[np.isinf(df[m_name])].shape[0]}, nan: {df.loc[np.isnan(df[m_name])].shape[0]}')\n",
    "\n",
    "    df = df.replace(np.inf, np.nan)\n",
    "\n",
    "    fig, axs = plt.subplots(len(irs), len(grs),\n",
    "                            sharey=True, sharex=True,\n",
    "                            layout='constrained', figsize=(18, 14),\n",
    "                            gridspec_kw={'wspace': 0.1,\n",
    "                                         'hspace': 0.1})\n",
    "\n",
    "    fig.suptitle(f'{m_name}: probabilities for selected IR & GR')\n",
    "\n",
    "    for i, ir_val in enumerate(irs):\n",
    "        for g, gr_val in enumerate(grs):\n",
    "\n",
    "            # separate nans and numbers\n",
    "            df_tmp = df.loc[(df.ir == ir_val) & (df.gr == gr_val)]\n",
    "            total = df_tmp.shape[0]\n",
    "\n",
    "            df_not_nan = df_tmp.loc[np.logical_not(np.isnan(df_tmp[m_name]))]\n",
    "\n",
    "            # prepare data for plotting\n",
    "            binned, edges = np.histogram(df_not_nan[m_name], bins=bins_n)\n",
    "            binned = binned / total\n",
    "\n",
    "            # plot not nans\n",
    "            axs[i, g].hist(edges[:-1], edges, weights=binned, fc='black', ec='black')\n",
    "\n",
    "            # styling\n",
    "            # x-axis labels\n",
    "            if g == 0:\n",
    "                axs[i, g].set_ylabel(f'IR = {ratios_labels[i]}')\n",
    "\n",
    "            # x-axis labels\n",
    "            if i == 0:\n",
    "                axs[i, g].set_title(f'GR = {ratios_labels[g]}')\n",
    "            else:\n",
    "                axs[i, g].set_xticklabels([])\n",
    "\n",
    "    del df\n",
    "    gc.collect()\n",
    "\n",
    "    return fig"
   ]
  },
  {
   "cell_type": "code",
   "execution_count": null,
   "metadata": {
    "ExecuteTime": {
     "end_time": "2023-04-27T01:56:55.624691Z",
     "start_time": "2023-04-27T01:54:32.071535Z"
    }
   },
   "outputs": [],
   "source": [
    "for metric_info in metrics.items():\n",
    "    fig = plot_histograms_no_nan(metric_info, grs, irs, ratios_labels, BINS)\n",
    "    fig.savefig(path.join(plots_dir, f'histogram_b{BINS}_{metric_info[1]}_no_nan.png'), dpi=300)\n",
    "    # plt.show()\n",
    "    plt.close(fig)"
   ]
  },
  {
   "cell_type": "markdown",
   "metadata": {},
   "source": [
    "### histograms properties\n",
    "\n",
    "quantitative properties of histograms for the selected metrics"
   ]
  },
  {
   "cell_type": "code",
   "execution_count": null,
   "metadata": {
    "ExecuteTime": {
     "end_time": "2023-04-18T04:52:33.894189Z",
     "start_time": "2023-04-18T04:52:33.888736Z"
    }
   },
   "outputs": [],
   "source": [
    "def get_properties(metric_info, ratio_b, ratio_imb):\n",
    "    m_file, m_name = metric_info\n",
    "    print(f'\\n\\n===\\n{m_name}:')\n",
    "\n",
    "    with open(path.join(calculations_dir, m_file), 'rb') as f:\n",
    "        df = pd.concat([gr, ir, pd.DataFrame(np.fromfile(f).astype(np.float64), columns=[m_name])], axis=1)\n",
    "\n",
    "    df_b = df.loc[(df.ir == ratio_b) & (df.gr == ratio_b)]\n",
    "    df_imb = df.loc[(df.ir == ratio_imb) & (df.gr == ratio_imb)]\n",
    "    del df\n",
    "\n",
    "    for df, ratio in [(df_b, ratio_b), (df_imb, ratio_imb)]:\n",
    "        print(f' --> {ratio} <--')\n",
    "        print(f'inf: {df.loc[np.isinf(df[m_name])].shape[0] / df.shape[0]}, nan: {df.loc[np.isnan(df[m_name])].shape[0] / df.shape[0]}')\n",
    "        print(f'PPF: {df[df[m_name] == 0].shape[0] / df.shape[0]}')\n",
    "        mode = df[m_name].mode()[0]\n",
    "        print(f'Mode: {mode}\\tprob: {df[df[m_name] == mode].shape[0] / df.shape[0]}')\n",
    "        print(f'Unique vals: {df[m_name].nunique()}')"
   ]
  },
  {
   "cell_type": "code",
   "execution_count": null,
   "metadata": {
    "ExecuteTime": {
     "end_time": "2023-04-18T04:54:09.558663Z",
     "start_time": "2023-04-18T04:52:35.024480Z"
    }
   },
   "outputs": [],
   "source": [
    "for metric_info in metrics.items():\n",
    "    get_properties(metric_info, np.float16(1 / 2), np.float16(1 / 28))"
   ]
  },
  {
   "cell_type": "code",
   "execution_count": null,
   "metadata": {
    "ExecuteTime": {
     "end_time": "2023-04-25T10:40:10.639348Z",
     "start_time": "2023-04-25T10:40:10.618983Z"
    }
   },
   "outputs": [],
   "source": [
    "def get_properties_selected(df, metric_info, gr, ir):\n",
    "    m_file, m_name= metric_info\n",
    "    print(f' --> IR: {ir}, GR: {gr} <--')\n",
    "\n",
    "    if gr:\n",
    "        cond_gr = df['gr'] == gr\n",
    "    else:\n",
    "        cond_gr = True\n",
    "    if ir:\n",
    "        cond_ir = df['ir'] == ir\n",
    "    else:\n",
    "        cond_ir = True\n",
    "\n",
    "    if (cond_ir is not True) or (cond_gr is not True):\n",
    "        df = df.loc[cond_gr & cond_ir]\n",
    "\n",
    "    print(f'nan: {df.loc[np.isnan(df[m_name])].shape[0] / df.shape[0] * 100}%, inf: {df.loc[np.isinf(df[m_name])].shape[0] / df.shape[0] * 100}%')\n",
    "    print(f'PPF: {df[df[m_name] == 0].shape[0] / df.shape[0] * 100}%')\n",
    "    print(f'Unique vals: {df[m_name].nunique()}')"
   ]
  },
  {
   "cell_type": "code",
   "execution_count": null,
   "metadata": {
    "ExecuteTime": {
     "end_time": "2023-04-25T10:48:09.278589Z",
     "start_time": "2023-04-25T10:40:15.985282Z"
    }
   },
   "outputs": [],
   "source": [
    "ratios = [float(2/56), float(1/2), float(54/56), None]\n",
    "\n",
    "for metric_info in metrics.items():\n",
    "    m_file, m_name= metric_info\n",
    "    print(f'\\n\\n===\\n{m_name}:')\n",
    "    with open(path.join(calculations_dir, m_file), 'rb') as f:\n",
    "        df = pd.concat([gr, ir, pd.DataFrame(np.fromfile(f).astype(np.float64), columns=[m_name])], axis=1)\n",
    "\n",
    "    for g in ratios:\n",
    "        for i in ratios:\n",
    "            get_properties_selected(df, metric_info, g, i)\n",
    "    del df"
   ]
  }
 ],
 "metadata": {
  "kernelspec": {
   "display_name": "Python 3 (ipykernel)",
   "language": "python",
   "name": "python3"
  },
  "language_info": {
   "codemirror_mode": {
    "name": "ipython",
    "version": 3
   },
   "file_extension": ".py",
   "mimetype": "text/x-python",
   "name": "python",
   "nbconvert_exporter": "python",
   "pygments_lexer": "ipython3",
   "version": "3.10.10"
  }
 },
 "nbformat": 4,
 "nbformat_minor": 1
}
