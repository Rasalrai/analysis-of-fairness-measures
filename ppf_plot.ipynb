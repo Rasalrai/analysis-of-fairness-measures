{
 "cells": [
  {
   "cell_type": "markdown",
   "metadata": {
    "collapsed": false
   },
   "source": [
    "# Probability of Perfect Fairness\n",
    "\n",
    "plotting only - calculations are in `metrics_calculations.ipynb` file\n",
    "\n",
    "probability of achieving perfect fairness (in different metrics), according to different metrics, for given group/imbalance ratio"
   ]
  },
  {
   "cell_type": "markdown",
   "metadata": {
    "collapsed": false
   },
   "source": [
    "- as function of group ratio\n",
    "- as function of imbalance\n",
    "\n",
    "## setup"
   ]
  },
  {
   "cell_type": "code",
   "execution_count": 1,
   "metadata": {
    "collapsed": false,
    "ExecuteTime": {
     "end_time": "2023-05-05T15:50:28.143662744Z",
     "start_time": "2023-05-05T15:50:27.421085969Z"
    }
   },
   "outputs": [],
   "source": [
    "import os\n",
    "import warnings\n",
    "from os import path\n",
    "\n",
    "import matplotlib.pyplot as plt\n",
    "import pandas as pd\n",
    "from matplotlib.ticker import PercentFormatter\n",
    "\n",
    "warnings.filterwarnings('ignore')\n",
    "plt.style.use('default')\n",
    "\n",
    "# SMALL_SIZE = 10\n",
    "# MEDIUM_SIZE = 10\n",
    "# BIGGER_SIZE = 13\n",
    "#\n",
    "# plt.rc('font', size=SMALL_SIZE, family='Helvetica')          # controls default text sizes\n",
    "# plt.rc('axes', titlesize=SMALL_SIZE)     # fontsize of the axes title\n",
    "# plt.rc('axes', labelsize=MEDIUM_SIZE)    # fontsize of the x and y labels\n",
    "# plt.rc('xtick', labelsize=SMALL_SIZE)    # fontsize of the tick labels\n",
    "# plt.rc('ytick', labelsize=SMALL_SIZE)    # fontsize of the tick labels\n",
    "# plt.rc('legend', fontsize=SMALL_SIZE)    # legend fontsize\n",
    "# plt.rc('figure', titlesize=BIGGER_SIZE)  # fontsize of the figure title"
   ]
  },
  {
   "cell_type": "code",
   "execution_count": 2,
   "metadata": {
    "collapsed": false,
    "ExecuteTime": {
     "end_time": "2023-05-05T15:50:28.145036851Z",
     "start_time": "2023-05-05T15:50:28.089218874Z"
    }
   },
   "outputs": [],
   "source": [
    "sample_size = 56        # 24\n",
    "calculations_dir = path.join('out', 'calculations', f'n{sample_size}')\n",
    "plots_dir = path.join('out', 'plots', f'n{sample_size}', 'perfect_fairness')\n",
    "os.makedirs(plots_dir, exist_ok=True)\n",
    "\n",
    "epsilons = [0,]\n",
    "ratio_types = ['gr', 'ir']\n",
    "\n",
    "\n",
    "dfs = {(ratio_type, epsilon): pd.read_csv(path.join(calculations_dir, f'perfect_fairness_{ratio_type}_eps{epsilon}.csv'))\n",
    "       for ratio_type in ratio_types\n",
    "       for epsilon in epsilons}\n",
    "\n",
    "diff_metrics_styles = {\n",
    "    'Accuracy equality difference': {'color': '#6699CC', 'marker': '*'},\n",
    "    'Statistical parity difference': {'color': '#994455', 'marker': '.'},\n",
    "\n",
    "    'Equal opportunity difference': {'color': '#004488', 'marker': 'v'},\n",
    "    'Predictive equality difference': {'color': '#997700', 'marker': 'x'},\n",
    "\n",
    "    'Negative predictive parity difference': {'color': '#EECC66', 'marker': '+'},\n",
    "    'Positive predictive parity difference': {'color': '#EE99AA', 'marker': 'o'},\n",
    "}\n",
    "\n",
    "x_description = {\n",
    "    'gr': 'Protected group ratio (GR)',\n",
    "    'ir': 'Imbalance ratio (IR)',\n",
    "}"
   ]
  },
  {
   "cell_type": "code",
   "execution_count": 3,
   "metadata": {
    "collapsed": false,
    "ExecuteTime": {
     "end_time": "2023-05-05T15:50:29.411222737Z",
     "start_time": "2023-05-05T15:50:29.404550050Z"
    }
   },
   "outputs": [],
   "source": [
    "def melt_df(df, base_metric):\n",
    "    temp = df.pop(base_metric)\n",
    "    length = len(df.columns)\n",
    "    df = pd.melt(df)\n",
    "    df[base_metric] = list(temp) * length\n",
    "    return df"
   ]
  },
  {
   "cell_type": "markdown",
   "metadata": {
    "collapsed": false
   },
   "source": [
    "## plotting"
   ]
  },
  {
   "cell_type": "code",
   "execution_count": 28,
   "metadata": {
    "collapsed": false,
    "ExecuteTime": {
     "end_time": "2023-05-05T16:16:08.359005661Z",
     "start_time": "2023-05-05T16:16:08.303420999Z"
    }
   },
   "outputs": [],
   "source": [
    "def plot_mlp(df, base_metric, color_mapping, title='Proportion of perfect fairness', y_max=None):\n",
    "    fig, ax = plt.subplots(figsize=(8, 6))\n",
    "    for col in color_mapping.keys():\n",
    "        ax.plot(df[base_metric], df[col], label=col.replace('difference', ''), alpha=.5, **color_mapping[col])\n",
    "\n",
    "    if y_max is not None:\n",
    "        ax.set_ylim(0, y_max)\n",
    "\n",
    "    ax.set_xlabel(x_description[base_metric])\n",
    "    ax.set_ylabel('Probability of perfect fairness')\n",
    "    ax.set_title(title)\n",
    "    ax.spines[['top', 'right']].set_visible(False)\n",
    "    ax.legend()\n",
    "    plt.tight_layout()\n",
    "    plt.show()\n",
    "    return fig"
   ]
  },
  {
   "cell_type": "code",
   "execution_count": null,
   "metadata": {
    "collapsed": false
   },
   "outputs": [],
   "source": [
    "for ratio_type in ratio_types:\n",
    "    for eps in epsilons:\n",
    "        fig = plot_mlp(dfs[(ratio_type, eps)], ratio_type, diff_metrics_styles,\n",
    "                       title='')\n",
    "        fig.savefig(path.join(plots_dir, f'ppf_{ratio_type}_eps{eps}.svg'),\n",
    "                    dpi=300)"
   ]
  },
  {
   "cell_type": "markdown",
   "metadata": {
    "collapsed": false
   },
   "source": [
    "## Close-ups for imbalance ratio"
   ]
  },
  {
   "cell_type": "code",
   "execution_count": null,
   "metadata": {
    "collapsed": false,
    "ExecuteTime": {
     "start_time": "2023-05-03T17:51:18.983413Z",
     "end_time": "2023-05-03T17:51:19.141896Z"
    }
   },
   "outputs": [],
   "source": [
    "base_metric = 'ir'\n",
    "df = dfs[(base_metric, 0)]\n",
    "\n",
    "fig, ax = plt.subplots(figsize=(8, 6))\n",
    "for col in ['Statistical parity difference', 'Accuracy equality difference', 'Negative predictive parity difference']:\n",
    "    ax.plot(df[base_metric], df[col], label=col,\n",
    "            alpha=.3, **diff_metrics_styles[col])\n",
    "ax.set_ylim(0, .06)\n",
    "# ax.set_ylim(0, .01)\n",
    "ax.set_xlabel(x_description[base_metric])\n",
    "ax.set_ylabel('Probability')\n",
    "ax.set_title('Proportion of perfect fairness')\n",
    "ax.legend()\n",
    "plt.show()"
   ]
  },
  {
   "cell_type": "code",
   "execution_count": null,
   "metadata": {
    "collapsed": false,
    "ExecuteTime": {
     "start_time": "2023-05-03T17:51:19.410329Z",
     "end_time": "2023-05-03T17:51:19.746847Z"
    }
   },
   "outputs": [],
   "source": [
    "base_metric = 'ir'\n",
    "df = dfs[(base_metric, 0)]\n",
    "\n",
    "fig, ax = plt.subplots(figsize=(8, 6))\n",
    "for col in diff_metrics_styles.keys():\n",
    "    if col == base_metric:\n",
    "        continue\n",
    "    ax.plot(df[base_metric], df[col], label=col, alpha=.6, **diff_metrics_styles[col])\n",
    "ax.set_ylim(0, .6)\n",
    "ax.set_xlabel(x_description[base_metric])\n",
    "ax.set_ylabel('Probability')\n",
    "ax.set_title('Proportion of perfect fairness')\n",
    "ax.legend()\n",
    "plt.show()"
   ]
  },
  {
   "cell_type": "code",
   "execution_count": null,
   "outputs": [],
   "source": [
    "ratio_type = 'ir'\n",
    "selected_metrics = {\n",
    "\n",
    "    'Accuracy equality difference': {'color': '#6699CC', 'marker': '*'},\n",
    "    'Statistical parity difference': {'color': '#994455', 'marker': '.'},\n",
    "\n",
    "    # 'Equal opportunity difference': {'color': '#004488', 'marker': 'v'},\n",
    "    # 'Predictive equality difference': {'color': '#997700', 'marker': 'x'},\n",
    "\n",
    "    'Negative predictive parity difference': {'color': '#EECC66', 'marker': '+'},\n",
    "    'Positive predictive parity difference': {'color': '#EE99AA', 'marker': 'o'},\n",
    "}\n",
    "\n",
    "for eps in epsilons:\n",
    "    for y_max in [.2, .06]:\n",
    "        fig = plot_mlp(dfs[(ratio_type, eps)], ratio_type, selected_metrics,\n",
    "                       # title=f'Proportion of {\"im\" if eps != 0 else \"\"}perfect fairness, ε={eps}',\n",
    "                       title='',\n",
    "                       y_max=y_max)\n",
    "        fig.savefig(path.join(plots_dir, f'ppf_scaled_{ratio_type}_eps{eps}_y{y_max}.svg'),\n",
    "                    dpi=300)\n",
    "\n",
    "# eps=0 has some values so small that it benefits from another close-up\n",
    "eps, y_max = 0, .015\n",
    "del selected_metrics['Negative predictive parity difference']\n",
    "del selected_metrics['Positive predictive parity difference']\n",
    "fig = plot_mlp(dfs[(ratio_type, eps)], ratio_type, selected_metrics,\n",
    "               # title=f'Proportion of {\"im\" if eps != 0 else \"\"}perfect fairness, ε={eps}',\n",
    "               title='',\n",
    "               y_max=y_max)\n",
    "fig.savefig(path.join(plots_dir, f'ppf_scaled_{ratio_type}_eps{eps}_y{y_max}.svg'),\n",
    "            dpi=300)"
   ],
   "metadata": {
    "collapsed": false,
    "ExecuteTime": {
     "start_time": "2023-05-03T17:51:23.978982Z",
     "end_time": "2023-05-03T17:51:24.381798Z"
    }
   }
  },
  {
   "cell_type": "markdown",
   "source": [
    "## Separate axes"
   ],
   "metadata": {
    "collapsed": false
   }
  },
  {
   "cell_type": "code",
   "execution_count": null,
   "outputs": [],
   "source": [
    "def separate_axis(df, base_metric, color_mapping, eps=0, percent=False):\n",
    "    fig, ax = plt.subplots(3, 2, figsize=(12, 12), sharex=True)\n",
    "    if eps == 0:\n",
    "        fig.suptitle(f'Proportion of perfect fairness as a function of {base_metric.upper()}')\n",
    "    else:\n",
    "        fig.suptitle(f'Proportion of imperfect fairness as a function of {base_metric.upper()} (ε={eps})')\n",
    "\n",
    "    for i, metric in enumerate(color_mapping.keys()):\n",
    "        ax[i // 2, i % 2].plot(df[base_metric], df[metric], label=metric, **color_mapping[metric])\n",
    "        # ax[i // 2, i % 2].set_xlabel(x_description[base_metric])\n",
    "        ax[i // 2, i % 2].set_ylabel('Probability')\n",
    "        ax[i // 2, i % 2].set_title(metric.replace('difference', ''))\n",
    "        ax[i // 2, i % 2].set_ylim(0, ax[i // 2, i % 2].get_ylim()[1]*1.1)\n",
    "        ax[i // 2, i % 2].spines[['top', 'right']].set_visible(False)\n",
    "        if percent:\n",
    "            ax[i // 2, i % 2].yaxis.set_major_formatter(PercentFormatter(1))\n",
    "        # ax[i // 2, i % 2].legend()\n",
    "\n",
    "    fig.tight_layout()\n",
    "    plt.show()\n",
    "    return fig"
   ],
   "metadata": {
    "collapsed": false,
    "ExecuteTime": {
     "start_time": "2023-05-03T17:54:44.188209Z",
     "end_time": "2023-05-03T17:54:44.195259Z"
    }
   }
  },
  {
   "cell_type": "code",
   "execution_count": null,
   "outputs": [],
   "source": [
    "for ratio_type in ratio_types:\n",
    "    for eps in epsilons:\n",
    "        fig = separate_axis(dfs[(ratio_type, eps)], ratio_type, diff_metrics_styles,\n",
    "                            eps=eps, percent=True)\n",
    "        fig.savefig(path.join(plots_dir, f'ppf_separated_{ratio_type}_percent_eps{eps}.svg'),\n",
    "                    dpi=300)"
   ],
   "metadata": {
    "collapsed": false,
    "ExecuteTime": {
     "start_time": "2023-05-03T17:54:44.363706Z",
     "end_time": "2023-05-03T17:54:47.577777Z"
    }
   }
  },
  {
   "cell_type": "markdown",
   "source": [
    "# Probability of NaN"
   ],
   "metadata": {
    "collapsed": false
   }
  },
  {
   "cell_type": "code",
   "execution_count": 30,
   "outputs": [],
   "source": [
    "def nan_probability(df, base_metric, color_mapping, title='Probability of NaN', y_max=None):\n",
    "    fig, ax = plt.subplots(figsize=(8, 6))\n",
    "    for col in color_mapping.keys():\n",
    "        ax.plot(df[base_metric], df[col], label=col.replace('difference', ''), alpha=.5, **color_mapping[col])\n",
    "\n",
    "    if y_max is not None:\n",
    "        ax.set_ylim(0, y_max)\n",
    "\n",
    "    ax.set_xlabel(x_description[base_metric])\n",
    "    ax.set_ylabel('Probability of undefined metric value')\n",
    "    # ax.set_title(title)\n",
    "    ax.spines[['top', 'right']].set_visible(False)\n",
    "    ax.yaxis.set_major_formatter(PercentFormatter(1))\n",
    "\n",
    "    ax.legend()\n",
    "    plt.show()\n",
    "    return fig"
   ],
   "metadata": {
    "collapsed": false,
    "ExecuteTime": {
     "end_time": "2023-05-05T16:24:10.538746457Z",
     "start_time": "2023-05-05T16:24:10.485573970Z"
    }
   }
  },
  {
   "cell_type": "code",
   "execution_count": 31,
   "outputs": [],
   "source": [
    "nan_dfs = {ratio_type: pd.read_csv(path.join(calculations_dir, f'nans_{ratio_type}.csv'))\n",
    "       for ratio_type in ratio_types}"
   ],
   "metadata": {
    "collapsed": false,
    "ExecuteTime": {
     "end_time": "2023-05-05T16:24:16.050301139Z",
     "start_time": "2023-05-05T16:24:16.024600664Z"
    }
   }
  },
  {
   "cell_type": "code",
   "execution_count": null,
   "outputs": [],
   "source": [
    "for ratio_type in ratio_types:\n",
    "    fig = nan_probability(nan_dfs[ratio_type], ratio_type, diff_metrics_styles,\n",
    "                          title='')\n",
    "    fig.savefig(path.join(plots_dir, f'nan_{ratio_type}_line.svg'), dpi=300)"
   ],
   "metadata": {
    "collapsed": false
   }
  },
  {
   "cell_type": "code",
   "execution_count": null,
   "outputs": [],
   "source": [
    "for ratio_type in ratio_types:\n",
    "    fig = nan_probability(nan_dfs[ratio_type], ratio_type, diff_metrics_styles, title=f'Probability of NaN for given value of {ratio_type.upper()}', y_max=.02)\n",
    "    fig.savefig(path.join(plots_dir, f'nan_{ratio_type}_zoom_line.svg'), dpi=300)"
   ],
   "metadata": {
    "collapsed": false,
    "ExecuteTime": {
     "start_time": "2023-05-03T17:54:19.452943Z",
     "end_time": "2023-05-03T17:54:19.794094Z"
    }
   }
  }
 ],
 "metadata": {
  "kernelspec": {
   "display_name": "Python 3",
   "language": "python",
   "name": "python3"
  },
  "language_info": {
   "codemirror_mode": {
    "name": "ipython",
    "version": 3
   },
   "file_extension": ".py",
   "mimetype": "text/x-python",
   "name": "python",
   "nbconvert_exporter": "python",
   "pygments_lexer": "ipython3",
   "version": "3.10.10"
  }
 },
 "nbformat": 4,
 "nbformat_minor": 0
}
