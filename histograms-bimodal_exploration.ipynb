{
 "cells": [
  {
   "cell_type": "markdown",
   "source": [
    "# Accuracy equality and statistical parity histograms for IR = 1/4 and GR = 1/28\n",
    "\n",
    "research about its shape (aka the \"Meowth\" Pokemon shape)\n",
    "\n",
    "### setup"
   ],
   "metadata": {
    "collapsed": false
   }
  },
  {
   "cell_type": "code",
   "execution_count": 5,
   "metadata": {
    "collapsed": true,
    "ExecuteTime": {
     "end_time": "2023-05-05T09:30:31.437798991Z",
     "start_time": "2023-05-05T09:30:31.374163981Z"
    }
   },
   "outputs": [],
   "source": [
    "import gc\n",
    "import os\n",
    "import warnings\n",
    "from datetime import datetime\n",
    "from os import path\n",
    "\n",
    "import matplotlib.pyplot as plt\n",
    "import numpy as np\n",
    "import pandas as pd\n",
    "\n",
    "warnings.filterwarnings('ignore')"
   ]
  },
  {
   "cell_type": "code",
   "execution_count": 10,
   "outputs": [],
   "source": [
    "sample_size = 56\n",
    "plots_dir = os.path.join('out', 'plots', f'n{sample_size}', 'histograms', 'meow')\n",
    "calculations_dir = os.path.join('out', 'calculations', f'n{sample_size}')\n",
    "\n",
    "os.makedirs(plots_dir, exist_ok=True)\n",
    "os.makedirs(calculations_dir, exist_ok=True)\n",
    "\n",
    "metrics = {\n",
    "    'acc_equality_diff.bin': 'Accuracy equality',\n",
    "    'stat_parity.bin': 'Statistical parity',\n",
    "}\n",
    "\n",
    "plt.style.use('default')\n",
    "\n",
    "SMALL_SIZE = MEDIUM_SIZE = 14\n",
    "BIGGER_SIZE = 15\n",
    "\n",
    "plt.rc('font', size=SMALL_SIZE)          # controls default text sizes\n",
    "plt.rc('axes', titlesize=SMALL_SIZE)     # fontsize of the axes title\n",
    "plt.rc('axes', labelsize=MEDIUM_SIZE)    # fontsize of the x and y labels\n",
    "plt.rc('xtick', labelsize=SMALL_SIZE)    # fontsize of the tick labels\n",
    "plt.rc('ytick', labelsize=SMALL_SIZE)    # fontsize of the tick labels\n",
    "plt.rc('legend', fontsize=SMALL_SIZE)    # legend fontsize\n",
    "plt.rc('figure', titlesize=BIGGER_SIZE)  # fontsize of the figure title"
   ],
   "metadata": {
    "collapsed": false,
    "ExecuteTime": {
     "end_time": "2023-05-05T09:33:28.612373172Z",
     "start_time": "2023-05-05T09:33:28.568623834Z"
    }
   }
  },
  {
   "cell_type": "code",
   "execution_count": 3,
   "outputs": [],
   "source": [
    "with open(path.join(calculations_dir, 'gr.bin'), 'rb') as f:\n",
    "    gr = pd.DataFrame(np.fromfile(f).astype(np.float16), columns=['gr'])\n",
    "\n",
    "with open(path.join(calculations_dir, 'ir.bin'), 'rb') as f:\n",
    "    ir = pd.DataFrame(np.fromfile(f).astype(np.float16), columns=['ir'])"
   ],
   "metadata": {
    "collapsed": false,
    "ExecuteTime": {
     "end_time": "2023-05-05T09:19:57.764788683Z",
     "start_time": "2023-05-05T09:19:42.428888779Z"
    }
   }
  },
  {
   "cell_type": "code",
   "execution_count": 16,
   "outputs": [],
   "source": [
    "def plot_histograms(metric_info, grs, irs, gr_labels, ir_labels, bins_n):\n",
    "    m_file, m_name = metric_info\n",
    "\n",
    "    with open(path.join(calculations_dir, m_file), 'rb') as f:\n",
    "        df = pd.concat([gr, ir, pd.DataFrame(np.fromfile(f), columns=[m_name])], axis=1)\n",
    "\n",
    "    # filter to get only results for selected ratios\n",
    "    df = df.loc[df.ir.isin(irs) & df.gr.isin(grs)]\n",
    "\n",
    "    mosaic = [\n",
    "        [f'a{i}{g}{x}'\n",
    "         for g in range(len(grs))\n",
    "         for x in ['', 'n']\n",
    "        ]\n",
    "        for i in range(len(irs))\n",
    "    ]\n",
    "\n",
    "    fig, axs = plt.subplot_mosaic(mosaic,\n",
    "                                  width_ratios=[50, 1]*len(grs),\n",
    "                                  sharex=False, sharey=True,\n",
    "                                  layout='constrained',\n",
    "                                  figsize=(20, 20),\n",
    "                                  gridspec_kw={'wspace': 0.1, 'hspace': 0.1})\n",
    "    fig.suptitle(f'{m_name}')\n",
    "\n",
    "    for i, ir_val in enumerate(irs):\n",
    "        for g, gr_val in enumerate(grs):\n",
    "\n",
    "            # separate nans and numbers\n",
    "            df_tmp = df.loc[(df.ir == ir_val) & (df.gr == gr_val)]\n",
    "            total = df_tmp.shape[0]\n",
    "\n",
    "            df_not_nan = df_tmp.loc[np.logical_not(np.isnan(df_tmp[m_name]))]\n",
    "            nan_prob = df_tmp.loc[np.isnan(df_tmp[m_name])].shape[0] / total\n",
    "\n",
    "            # prepare data for plotting\n",
    "            binned, edges = np.histogram(df_not_nan[m_name], bins=bins_n)\n",
    "            binned = binned / total\n",
    "\n",
    "            # plot not nans\n",
    "            axs[f'a{i}{g}'].hist(edges[:-1], edges, weights=binned, fc='black', ec='black')\n",
    "            axs[f'a{i}{g}'].spines[['top', 'right']].set_visible(False)\n",
    "\n",
    "            # plot nans - without drawing the full axis frame\n",
    "            axs[f'a{i}{g}n'].bar(0, nan_prob, fc='red', ec='red', width=0.1, lw=0)\n",
    "            axs[f'a{i}{g}n'].spines[['top', 'left']].set_visible(False)\n",
    "\n",
    "            # styling\n",
    "            if g == 0:\n",
    "                axs[f'a{i}{g}'].set_ylabel(f'IR = {ir_labels[i]}')\n",
    "            if i == 0:\n",
    "                axs[f'a{i}{g}'].set_title(f'GR = {gr_labels[g]}')\n",
    "            if i == len(irs) - 1:   # last row\n",
    "                axs[f'a{i}{g}n'].set_xticks([0], ['Undef.'])\n",
    "            else:\n",
    "                axs[f'a{i}{g}'].set_xticklabels([])\n",
    "                axs[f'a{i}{g}n'].set_xticks([0], [''])\n",
    "\n",
    "    del df\n",
    "    gc.collect()\n",
    "\n",
    "    return fig"
   ],
   "metadata": {
    "collapsed": false,
    "ExecuteTime": {
     "end_time": "2023-05-05T09:48:09.777253015Z",
     "start_time": "2023-05-05T09:48:09.771119362Z"
    }
   }
  },
  {
   "cell_type": "markdown",
   "source": [
    "## Exploration\n",
    "\n",
    "### Histograms with various density"
   ],
   "metadata": {
    "collapsed": false
   }
  },
  {
   "cell_type": "code",
   "execution_count": null,
   "outputs": [],
   "source": [
    "ratios_labels = ['', '']\n",
    "\n",
    "grs = np.float16([1. / 28, 27. / 28])\n",
    "irs = np.float16([1. / 4, 3. / 4])\n",
    "\n",
    "for BINS in (257, 321, 513, 601):\n",
    "    for metric_info in {'stat_parity.bin': 'Statistical parity', }.items():\n",
    "        fig = plot_histograms(metric_info, grs, irs, ratios_labels, ratios_labels, BINS)\n",
    "        fig.savefig(path.join(plots_dir, 'meow', f'meow_histogram_b{BINS}_{metric_info[1]}.svg'), dpi=300)\n",
    "        # plt.show()\n",
    "        plt.close(fig)\n",
    "m_file, m_name = ('stat_parity.bin', 'Statistical parity')\n",
    "\n",
    "with open(path.join(calculations_dir, m_file), 'rb') as f:\n",
    "    df = pd.concat([gr, ir, pd.DataFrame(np.fromfile(f), columns=[m_name])], axis=1)\n",
    "\n",
    "# filter to get only results for selected ratios\n",
    "df = df.loc[(df.ir == np.float16(1 / 4)) & (df.gr == np.float16(1 / 28))]\n",
    "df['Statistical parity'].mode()\n",
    "m_file, m_name = ('stat_parity.bin', 'Statistical parity')\n",
    "\n",
    "with open(path.join(calculations_dir, m_file), 'rb') as f:\n",
    "    df = pd.concat([gr, ir, pd.DataFrame(np.fromfile(f), columns=[m_name])], axis=1)\n",
    "\n",
    "# filter to get only results for selected ratios\n",
    "df = df.loc[(df.ir == np.float16(3 / 4)) & (df.gr == np.float16(1 / 28))]\n",
    "\n",
    "df['Statistical parity'].value_counts()"
   ],
   "metadata": {
    "collapsed": false
   }
  },
  {
   "cell_type": "markdown",
   "source": [
    "### Histograms of adjacent ratios\n",
    "\n",
    "how other, unsimilar shapes of histogram \"transform\" into this specific one"
   ],
   "metadata": {
    "collapsed": false
   }
  },
  {
   "cell_type": "code",
   "execution_count": null,
   "outputs": [],
   "source": [
    "gr_ratios = [1/56, 2./56, 3/56, 4/56, 5/56]\n",
    "gr_labels = ['1/56', '2/56', '3/56', '4/56', '5/56']\n",
    "grs = np.float16(gr_ratios)\n",
    "\n",
    "BINS = 109\n",
    "\n",
    "# IR changes every 1/56, 2/56 or 3/56\n",
    "for ir_ratios, ir_labels in [\n",
    "    [[10/56, 11/56, 12/56, 13/56, 1./4, 15/56, 16/56, 17/56, 18/56], ['10/56', '11/56', '12/56', '13/56', '1/4', '15/56', '16/56', '17/56', '18/56'][::-1]],\n",
    "    [[6/56, 8/56, 10/56, 12/56, 1./4, 16/56, 18/56, 20/56, 22/56], ['6/56', '8/56', '10/56', '12/56', '1/4', '16/56', '18/56', '20/56', '22/56'][::-1]],\n",
    "    [[2/56, 5/56, 8/56, 11/56, 1./4, 17/56, 20/56, 23/56, 26/56], ['2/56', '5/56', '8/56', '11/56', '1/4', '17/56', '20/56', '23/56', '26/56'][::-1]],\n",
    "]:\n",
    "    irs = np.float16(ir_ratios[::-1])\n",
    "    for metric_info in metrics.items():\n",
    "        fig = plot_histograms(metric_info, grs, irs, gr_labels, ir_labels, bins_n=BINS)\n",
    "        fig.savefig(path.join(plots_dir,\n",
    "                              f'histogram_b{BINS}_{datetime.now().strftime(\"%H%M%S\")}.svg'),\n",
    "                    dpi=300)\n",
    "        plt.close(fig)"
   ],
   "metadata": {
    "collapsed": false
   }
  },
  {
   "cell_type": "code",
   "execution_count": null,
   "outputs": [],
   "source": [
    "m_file, m_name = ('stat_parity.bin', 'Statistical parity')\n",
    "\n",
    "with open(path.join(calculations_dir, m_file), 'rb') as f:\n",
    "    df = pd.concat([gr, ir, pd.DataFrame(np.fromfile(f), columns=[m_name])], axis=1)\n",
    "\n",
    "# filter to get only results for selected ratios\n",
    "df = df.loc[(df.ir == np.float16(1/4)) & (df.gr == np.float16(1/28))]\n",
    "\n",
    "print(df['Statistical parity'].mode())\n",
    "\n",
    "df['Statistical parity'].value_counts()"
   ],
   "metadata": {
    "collapsed": false
   }
  }
 ],
 "metadata": {
  "kernelspec": {
   "display_name": "Python 3",
   "language": "python",
   "name": "python3"
  },
  "language_info": {
   "codemirror_mode": {
    "name": "ipython",
    "version": 2
   },
   "file_extension": ".py",
   "mimetype": "text/x-python",
   "name": "python",
   "nbconvert_exporter": "python",
   "pygments_lexer": "ipython2",
   "version": "2.7.6"
  }
 },
 "nbformat": 4,
 "nbformat_minor": 0
}
